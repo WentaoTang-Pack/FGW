{
 "cells": [
  {
   "cell_type": "markdown",
   "metadata": {},
   "source": [
    "# Classification using FGW"
   ]
  },
  {
   "cell_type": "code",
   "execution_count": 1,
   "metadata": {
    "collapsed": true
   },
   "outputs": [],
   "source": [
    "import numpy as np\n",
    "import os,sys\n",
    "sys.path.append(os.path.realpath('../lib'))\n",
    "from data_loader import load_local_data\n",
    "from custom_svc import Graph_FGW_SVC_Classifier\n",
    "from sklearn.model_selection import train_test_split\n",
    "import matplotlib.pyplot as plt"
   ]
  },
  {
   "cell_type": "markdown",
   "metadata": {},
   "source": [
    "Simple training example using FGW on the mutag dataset"
   ]
  },
  {
   "cell_type": "code",
   "execution_count": 2,
   "metadata": {
    "collapsed": true
   },
   "outputs": [],
   "source": [
    "dataset_n='mutag'\n",
    "path='../data/'\n",
    "X,y=load_local_data(path,dataset_n,wl=2)"
   ]
  },
  {
   "cell_type": "markdown",
   "metadata": {},
   "source": [
    "We load the Mutag dataset, using the \"wl\" option that computes the Weisfeler-Lehman features for each nodes as shown is the notebook wl_labeling.ipynb"
   ]
  },
  {
   "cell_type": "markdown",
   "metadata": {},
   "source": [
    "We create a SVM-like classifier on the precomputed matrix $K=e^{-\\gamma*FGW}$.\n",
    "To compute FGW we use the shortest_path distance for the structure matrices of each graph, and the so-called 'hamming'distance between their features. It is defined as \n",
    "\n",
    "$$d(a_{i},b_{j})=\\sum_{k=0}^{wl} \\delta(\\tau(a_{i}^{k}),\\tau(b_{j}^{k}))$$\n",
    "\n",
    "where $\\delta(x,y)=1$ if $x\\neq y$ else $\\delta(x,y)=0$ and $\\tau(a_{i}^{k})$ denotes the concatenated label at iteration $k$ in the Weisfeler-Lehman process."
   ]
  },
  {
   "cell_type": "code",
   "execution_count": 3,
   "metadata": {
    "collapsed": true
   },
   "outputs": [],
   "source": [
    "graph_svc=Graph_FGW_SVC_Classifier(C=1,gamma=1,alpha=0.5,method='shortest_path',features_metric='hamming_dist',wl=2)\n",
    "X_train, X_test, y_train, y_test=train_test_split(X,y,test_size=0.33, random_state=42)"
   ]
  },
  {
   "cell_type": "code",
   "execution_count": 4,
   "metadata": {},
   "outputs": [
    {
     "name": "stdout",
     "output_type": "stream",
     "text": [
      "[<graph.Graph object at 0x00000224567A80A0>\n",
      " <graph.Graph object at 0x00000224567B1390>\n",
      " <graph.Graph object at 0x0000022456BD0910>\n",
      " <graph.Graph object at 0x0000022435BA18A0>\n",
      " <graph.Graph object at 0x00000224567A6B60>\n",
      " <graph.Graph object at 0x00000224567C0250>\n",
      " <graph.Graph object at 0x00000224567A9EA0>\n",
      " <graph.Graph object at 0x00000224567C1420>\n",
      " <graph.Graph object at 0x00000224567AA1D0>\n",
      " <graph.Graph object at 0x0000022456BD2440>\n",
      " <graph.Graph object at 0x00000224567C1F60>\n",
      " <graph.Graph object at 0x00000224567C1BA0>\n",
      " <graph.Graph object at 0x00000224567A9F90>\n",
      " <graph.Graph object at 0x00000224567A99F0>\n",
      " <graph.Graph object at 0x00000224567C2050>\n",
      " <graph.Graph object at 0x00000224567C0BB0>\n",
      " <graph.Graph object at 0x00000224567AA7A0>\n",
      " <graph.Graph object at 0x00000224567A7D60>\n",
      " <graph.Graph object at 0x00000224567A7400>\n",
      " <graph.Graph object at 0x00000224567AB910>\n",
      " <graph.Graph object at 0x00000224567AAFB0>\n",
      " <graph.Graph object at 0x0000022456BD11E0>\n",
      " <graph.Graph object at 0x00000224567ABDC0>\n",
      " <graph.Graph object at 0x00000224567A73D0>\n",
      " <graph.Graph object at 0x00000224567AABF0>\n",
      " <graph.Graph object at 0x00000224567AB730>\n",
      " <graph.Graph object at 0x00000224567ABBE0>\n",
      " <graph.Graph object at 0x00000224567A7E80>\n",
      " <graph.Graph object at 0x0000022456CAD390>\n",
      " <graph.Graph object at 0x00000224567ABAF0>\n",
      " <graph.Graph object at 0x0000022456772B60>\n",
      " <graph.Graph object at 0x00000224567B0580>\n",
      " <graph.Graph object at 0x00000224567734C0>\n",
      " <graph.Graph object at 0x00000224567B1180>\n",
      " <graph.Graph object at 0x0000022456BD1C30>\n",
      " <graph.Graph object at 0x00000224567A5C60>\n",
      " <graph.Graph object at 0x00000224567C0160>\n",
      " <graph.Graph object at 0x00000224567AB550>\n",
      " <graph.Graph object at 0x00000224567AB370>\n",
      " <graph.Graph object at 0x00000224567C0CA0>\n",
      " <graph.Graph object at 0x00000224567C1240>\n",
      " <graph.Graph object at 0x0000022456BD3760>\n",
      " <graph.Graph object at 0x00000224567B26B0>\n",
      " <graph.Graph object at 0x00000224567B3BE0>\n",
      " <graph.Graph object at 0x0000022456772E30>\n",
      " <graph.Graph object at 0x00000224567C0070>\n",
      " <graph.Graph object at 0x00000224567AA5C0>\n",
      " <graph.Graph object at 0x0000022456773730>\n",
      " <graph.Graph object at 0x0000022435BA02B0>\n",
      " <graph.Graph object at 0x00000224567A4CD0>\n",
      " <graph.Graph object at 0x00000224567A8910>\n",
      " <graph.Graph object at 0x00000224567B1090>\n",
      " <graph.Graph object at 0x00000224567B0C10>\n",
      " <graph.Graph object at 0x00000224567ABEB0>\n",
      " <graph.Graph object at 0x00000224567A8190>\n",
      " <graph.Graph object at 0x0000022456773E50>\n",
      " <graph.Graph object at 0x00000224567B3DC0>\n",
      " <graph.Graph object at 0x00000224567C0520>\n",
      " <graph.Graph object at 0x00000224567B0FA0>\n",
      " <graph.Graph object at 0x00000224567AB640>\n",
      " <graph.Graph object at 0x00000224567AB0A0>\n",
      " <graph.Graph object at 0x00000224567736D0>\n",
      " <graph.Graph object at 0x0000022456CAD720>\n",
      " <graph.Graph object at 0x0000022456BD2D70>\n",
      " <graph.Graph object at 0x00000224567A7DF0>\n",
      " <graph.Graph object at 0x0000022456BD1570>\n",
      " <graph.Graph object at 0x00000224567A44F0>\n",
      " <graph.Graph object at 0x0000022456CAD4B0>\n",
      " <graph.Graph object at 0x0000022456CAD870>\n",
      " <graph.Graph object at 0x00000224567C1150>\n",
      " <graph.Graph object at 0x00000224567B3820>\n",
      " <graph.Graph object at 0x00000224567A5600>\n",
      " <graph.Graph object at 0x00000224567C3FA0>\n",
      " <graph.Graph object at 0x00000224567B30A0>\n",
      " <graph.Graph object at 0x00000224567B2BF0>\n",
      " <graph.Graph object at 0x0000022456773C40>\n",
      " <graph.Graph object at 0x00000224567A8A00>\n",
      " <graph.Graph object at 0x00000224567A8640>\n",
      " <graph.Graph object at 0x00000224567B2FB0>\n",
      " <graph.Graph object at 0x00000224567C1C90>\n",
      " <graph.Graph object at 0x00000224567C17E0>\n",
      " <graph.Graph object at 0x00000224567B20B0>\n",
      " <graph.Graph object at 0x00000224567A8CD0>\n",
      " <graph.Graph object at 0x00000224567ABCD0>\n",
      " <graph.Graph object at 0x00000224567A7160>\n",
      " <graph.Graph object at 0x00000224567732B0>\n",
      " <graph.Graph object at 0x0000022456CAC2E0>\n",
      " <graph.Graph object at 0x00000224567ABA00>\n",
      " <graph.Graph object at 0x00000224567A9540>\n",
      " <graph.Graph object at 0x0000022456CACE80>\n",
      " <graph.Graph object at 0x00000224567B2380>\n",
      " <graph.Graph object at 0x00000224567A56C0>\n",
      " <graph.Graph object at 0x0000022435BA2080>\n",
      " <graph.Graph object at 0x00000224567B12A0>\n",
      " <graph.Graph object at 0x00000224567A6890>\n",
      " <graph.Graph object at 0x00000224567B1B10>\n",
      " <graph.Graph object at 0x00000224567C0610>\n",
      " <graph.Graph object at 0x0000022435BA0340>\n",
      " <graph.Graph object at 0x00000224567C1600>\n",
      " <graph.Graph object at 0x00000224567B1CF0>\n",
      " <graph.Graph object at 0x0000022456CACD30>\n",
      " <graph.Graph object at 0x00000224567A49A0>\n",
      " <graph.Graph object at 0x0000022456BD2200>\n",
      " <graph.Graph object at 0x00000224567C0430>\n",
      " <graph.Graph object at 0x00000224567A9810>\n",
      " <graph.Graph object at 0x00000224567A8370>\n",
      " <graph.Graph object at 0x00000224567A7E20>\n",
      " <graph.Graph object at 0x00000224567A4520>\n",
      " <graph.Graph object at 0x00000224567A9BD0>\n",
      " <graph.Graph object at 0x0000022456BD2E60>\n",
      " <graph.Graph object at 0x0000022456BD39A0>\n",
      " <graph.Graph object at 0x00000224567B02B0>\n",
      " <graph.Graph object at 0x00000224567B0670>\n",
      " <graph.Graph object at 0x0000022456BD1DE0>\n",
      " <graph.Graph object at 0x0000022435BA1E10>\n",
      " <graph.Graph object at 0x0000022443F94CD0>\n",
      " <graph.Graph object at 0x00000224567AA920>\n",
      " <graph.Graph object at 0x00000224567A6980>\n",
      " <graph.Graph object at 0x00000224567C1330>\n",
      " <graph.Graph object at 0x00000224567738E0>\n",
      " <graph.Graph object at 0x00000224567733A0>\n",
      " <graph.Graph object at 0x00000224567C18D0>\n",
      " <graph.Graph object at 0x00000224567B2B00>\n",
      " <graph.Graph object at 0x00000224567A9630>\n",
      " <graph.Graph object at 0x0000022456BD0D00>]\n"
     ]
    }
   ],
   "source": [
    "print(X_train)"
   ]
  },
  {
   "cell_type": "code",
   "execution_count": 5,
   "metadata": {
    "collapsed": false
   },
   "outputs": [
    {
     "name": "stdout",
     "output_type": "stream",
     "text": [
      "Wall time: 15.5 s\n"
     ]
    }
   ],
   "source": [
    "%%time\n",
    "graph_svc.fit(X_train,y_train)\n"
   ]
  },
  {
   "cell_type": "code",
   "execution_count": 6,
   "metadata": {
    "collapsed": false
   },
   "outputs": [
    {
     "name": "stdout",
     "output_type": "stream",
     "text": [
      "Wall time: 16.7 s\n"
     ]
    }
   ],
   "source": [
    "%%time\n",
    "preds=graph_svc.predict(X_test)"
   ]
  },
  {
   "cell_type": "code",
   "execution_count": 8,
   "metadata": {
    "collapsed": false
   },
   "outputs": [
    {
     "name": "stdout",
     "output_type": "stream",
     "text": [
      "[ 1  1 -1  1  1  1  1 -1 -1 -1  1 -1  1 -1  1  1 -1  1  1 -1 -1  1  1  1\n",
      "  1  1  1 -1  1  1  1  1  1  1  1  1  1  1 -1  1  1 -1  1  1  1  1 -1  1\n",
      "  1  1 -1  1  1 -1  1  1 -1 -1 -1 -1  1  1 -1]\n"
     ]
    },
    {
     "data": {
      "text/plain": [
       "0.9365079365079365"
      ]
     },
     "execution_count": 8,
     "metadata": {},
     "output_type": "execute_result"
    }
   ],
   "source": [
    "print(preds)\n",
    "np.sum(preds==y_test)/len(y_test)"
   ]
  }
 ],
 "metadata": {
  "anaconda-cloud": {},
  "kernelspec": {
   "display_name": "Python [default]",
   "language": "python",
   "name": "python3"
  },
  "language_info": {
   "codemirror_mode": {
    "name": "ipython",
    "version": 3
   },
   "file_extension": ".py",
   "mimetype": "text/x-python",
   "name": "python",
   "nbconvert_exporter": "python",
   "pygments_lexer": "ipython3",
   "version": "3.10.1"
  }
 },
 "nbformat": 4,
 "nbformat_minor": 1
}
