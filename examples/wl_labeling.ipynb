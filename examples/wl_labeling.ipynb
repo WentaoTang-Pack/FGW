{
 "cells": [
  {
   "cell_type": "markdown",
   "metadata": {},
   "source": [
    "# WL labeling"
   ]
  },
  {
   "cell_type": "markdown",
   "metadata": {},
   "source": [
    "This notebook present the Weisfeler-Lehman procedure used in the experiment "
   ]
  },
  {
   "cell_type": "code",
   "execution_count": 1,
   "metadata": {
    "collapsed": false
   },
   "outputs": [],
   "source": [
    "import numpy as np\n",
    "import os,sys\n",
    "sys.path.append(os.path.realpath('../lib'))\n",
    "from graph import Graph,wl_labeling\n",
    "from ot_distances import Fused_Gromov_Wasserstein_distance\n",
    "import copy\n",
    "import networkx as nx\n",
    "import matplotlib.pyplot as plt\n",
    "import ot\n",
    "\n",
    "def pos_diff(pos,x_off=0,y_off=0):\n",
    "    pos_higher = {}\n",
    "    for k, v in pos.items():\n",
    "        pos_higher[k] = (v[0]+x_off, v[1]+y_off) \n",
    "    return pos_higher"
   ]
  },
  {
   "cell_type": "markdown",
   "metadata": {},
   "source": [
    "We create two simple graphs with 3 nodes"
   ]
  },
  {
   "cell_type": "code",
   "execution_count": 2,
   "metadata": {
    "collapsed": true
   },
   "outputs": [],
   "source": [
    "graph=Graph()\n",
    "graph2=Graph()"
   ]
  },
  {
   "cell_type": "code",
   "execution_count": 3,
   "metadata": {
    "collapsed": false
   },
   "outputs": [],
   "source": [
    "graph.add_one_attribute(0,0,'attr_name')\n",
    "graph.add_one_attribute(1,0,'attr_name')\n",
    "graph.add_one_attribute(2,0,'attr_name')\n",
    "graph.add_one_attribute(3,5,'attr_name')\n",
    "graph.add_edge((0,1))\n",
    "graph.add_edge((1,2))\n",
    "graph.add_edge((1,3))"
   ]
  },
  {
   "cell_type": "code",
   "execution_count": 4,
   "metadata": {
    "collapsed": true
   },
   "outputs": [],
   "source": [
    "graph2.add_one_attribute(0,0,'attr_name')\n",
    "graph2.add_one_attribute(1,5,'attr_name')\n",
    "graph2.add_one_attribute(2,0,'attr_name')\n",
    "graph2.add_one_attribute(3,0,'attr_name')\n",
    "graph2.add_edge((0,1))\n",
    "graph2.add_edge((1,2))\n",
    "graph2.add_edge((1,3))"
   ]
  },
  {
   "cell_type": "markdown",
   "metadata": {},
   "source": [
    "We relabel their nodes according to the Weisfeler-Lehman procedure"
   ]
  },
  {
   "cell_type": "code",
   "execution_count": 5,
   "metadata": {
    "collapsed": false
   },
   "outputs": [],
   "source": [
    "H=1\n",
    "gtilde=Graph()\n",
    "gtilde.nx_graph=wl_labeling(graph.nx_graph,h=H,tohash=False)\n",
    "gtilde2=Graph()\n",
    "gtilde2.nx_graph=wl_labeling(graph2.nx_graph,h=H,tohash=False)"
   ]
  },
  {
   "cell_type": "code",
   "execution_count": 6,
   "metadata": {
    "collapsed": false
   },
   "outputs": [
    {
     "data": {
      "image/png": "[encoded data removed]",
      "text/plain": [
       "<Figure size 1080x576 with 4 Axes>"
      ]
     },
     "metadata": {},
     "output_type": "display_data"
    }
   ],
   "source": [
    "pos=nx.layout.kamada_kawai_layout(graph.nx_graph)\n",
    "\n",
    "fs=12\n",
    "plt.figure(figsize=(15,8))\n",
    "\n",
    "plt.subplot(2,2,1)\n",
    "\n",
    "nx.draw(graph.nx_graph,pos=pos)\n",
    "nx.draw_networkx_labels(graph.nx_graph,pos=pos_diff(pos,0.1,0.2)\n",
    "        ,labels=nx.get_node_attributes(graph.nx_graph,'attr_name'),font_size=fs)\n",
    "\n",
    "plt.subplot(2,2,2)\n",
    "nx.draw(gtilde.nx_graph,pos=pos)\n",
    "nx.draw_networkx_labels(gtilde.nx_graph,pos=pos_diff(pos,0,0.3)\n",
    "                        ,labels=nx.get_node_attributes(gtilde.nx_graph,'attr_name'),font_size=fs)\n",
    "\n",
    "\n",
    "plt.subplot(2,2,3)\n",
    "pos=nx.layout.kamada_kawai_layout(graph2.nx_graph)\n",
    "\n",
    "nx.draw(graph2.nx_graph,pos=pos)\n",
    "nx.draw_networkx_labels(graph2.nx_graph,pos=pos_diff(pos,0.1,0.2)\n",
    "        ,labels=nx.get_node_attributes(graph2.nx_graph,'attr_name'),font_size=fs)\n",
    "\n",
    "plt.subplot(2,2,4)\n",
    "nx.draw(gtilde2.nx_graph,pos=pos)\n",
    "nx.draw_networkx_labels(gtilde2.nx_graph,pos=pos_diff(pos,0,0.3)\n",
    "                        ,labels=nx.get_node_attributes(gtilde2.nx_graph,'attr_name'),font_size=fs)\n",
    "plt.show()"
   ]
  },
  {
   "cell_type": "markdown",
   "metadata": {},
   "source": [
    "We define the hamming_dist used in the experiments"
   ]
  },
  {
   "cell_type": "code",
   "execution_count": 7,
   "metadata": {
    "collapsed": true
   },
   "outputs": [],
   "source": [
    "from utils import hamming_dist"
   ]
  },
  {
   "cell_type": "code",
   "execution_count": 8,
   "metadata": {
    "collapsed": true
   },
   "outputs": [],
   "source": [
    "X=gtilde.all_matrix_attr().reshape(-1,1)\n",
    "Y=gtilde2.all_matrix_attr().reshape(-1,1)\n",
    "f=lambda x,y: hamming_dist(x,y)"
   ]
  },
  {
   "cell_type": "code",
   "execution_count": 12,
   "metadata": {
    "collapsed": false
   },
   "outputs": [
    {
     "name": "stdout",
     "output_type": "stream",
     "text": [
      "[['0']\n",
      " ['00']\n",
      " ['0']\n",
      " ['0005']\n",
      " ['0']\n",
      " ['00']\n",
      " ['5']\n",
      " ['50']]\n",
      "[['0']\n",
      " ['05']\n",
      " ['5']\n",
      " ['5000']\n",
      " ['0']\n",
      " ['05']\n",
      " ['0']\n",
      " ['05']]\n"
     ]
    },
    {
     "data": {
      "text/plain": [
       "(None, None)"
      ]
     },
     "execution_count": 12,
     "metadata": {},
     "output_type": "execute_result"
    }
   ],
   "source": [
    "print(X), print(Y)"
   ]
  },
  {
   "cell_type": "markdown",
   "metadata": {},
   "source": [
    "It is defined as \n",
    "\n",
    "$$d(a_{i},b_{j})=\\sum_{k=0}^{H} \\delta(\\tau(a_{i}^{k}),\\tau(b_{j}^{k}))$$\n",
    "\n",
    "where $\\delta(x,y)=1$ if $x\\neq y$ else $\\delta(x,y)=0$ and $\\tau(a_{i}^{k})$ denotes the concatenated label at iteration $k$ in the Weisfeler-Lehman process."
   ]
  },
  {
   "cell_type": "code",
   "execution_count": 10,
   "metadata": {
    "collapsed": false
   },
   "outputs": [],
   "source": [
    "M=ot.dist(X,Y,f)"
   ]
  },
  {
   "cell_type": "code",
   "execution_count": 13,
   "metadata": {
    "collapsed": false
   },
   "outputs": [
    {
     "data": {
      "text/plain": [
       "array([[0., 1., 1., 1., 0., 1., 0., 1.],\n",
       "       [1., 1., 1., 1., 1., 1., 1., 1.],\n",
       "       [0., 1., 1., 1., 0., 1., 0., 1.],\n",
       "       [1., 1., 1., 1., 1., 1., 1., 1.],\n",
       "       [0., 1., 1., 1., 0., 1., 0., 1.],\n",
       "       [1., 1., 1., 1., 1., 1., 1., 1.],\n",
       "       [1., 1., 0., 1., 1., 1., 1., 1.],\n",
       "       [1., 1., 1., 1., 1., 1., 1., 1.]])"
      ]
     },
     "execution_count": 13,
     "metadata": {},
     "output_type": "execute_result"
    }
   ],
   "source": [
    "M"
   ]
  },
  {
   "cell_type": "markdown",
   "metadata": {},
   "source": [
    "For graphs of the Mutag dataset "
   ]
  },
  {
   "cell_type": "code",
   "execution_count": 14,
   "metadata": {
    "collapsed": true
   },
   "outputs": [],
   "source": [
    "from data_loader import load_local_data"
   ]
  },
  {
   "cell_type": "code",
   "execution_count": 16,
   "metadata": {
    "collapsed": false
   },
   "outputs": [
    {
     "name": "stdout",
     "output_type": "stream",
     "text": [
      "[<graph.Graph object at 0x000001E406787160>\n",
      " <graph.Graph object at 0x000001E4085E9900>\n",
      " <graph.Graph object at 0x000001E4085EB8E0>\n",
      " <graph.Graph object at 0x000001E4085EB9A0>\n",
      " <graph.Graph object at 0x000001E4085EA7D0>\n",
      " <graph.Graph object at 0x000001E4085E9A20>\n",
      " <graph.Graph object at 0x000001E4085E89A0>\n",
      " <graph.Graph object at 0x000001E4085EA350>\n",
      " <graph.Graph object at 0x000001E4085EA860>\n",
      " <graph.Graph object at 0x000001E4085EB010>\n",
      " <graph.Graph object at 0x000001E4085EAA10>\n",
      " <graph.Graph object at 0x000001E4085EAAA0>\n",
      " <graph.Graph object at 0x000001E4085E8850>\n",
      " <graph.Graph object at 0x000001E4085E8610>\n",
      " <graph.Graph object at 0x000001E4085EA950>\n",
      " <graph.Graph object at 0x000001E4085E8CD0>\n",
      " <graph.Graph object at 0x000001E4085E8C10>\n",
      " <graph.Graph object at 0x000001E4085E8CA0>\n",
      " <graph.Graph object at 0x000001E4085E82E0>\n",
      " <graph.Graph object at 0x000001E4085E8EB0>\n",
      " <graph.Graph object at 0x000001E4085EBEE0>\n",
      " <graph.Graph object at 0x000001E4085E94E0>\n",
      " <graph.Graph object at 0x000001E4085E87F0>\n",
      " <graph.Graph object at 0x000001E4085E8310>\n",
      " <graph.Graph object at 0x000001E4085E9030>\n",
      " <graph.Graph object at 0x000001E4085E9750>\n",
      " <graph.Graph object at 0x000001E4085E97E0>\n",
      " <graph.Graph object at 0x000001E4085EAE90>\n",
      " <graph.Graph object at 0x000001E4085EAE00>\n",
      " <graph.Graph object at 0x000001E4085EAFB0>\n",
      " <graph.Graph object at 0x000001E4085EAC50>\n",
      " <graph.Graph object at 0x000001E4085E9E70>\n",
      " <graph.Graph object at 0x000001E4085E92A0>\n",
      " <graph.Graph object at 0x000001E4085E9BD0>\n",
      " <graph.Graph object at 0x000001E4085E9C60>\n",
      " <graph.Graph object at 0x000001E4085EAC80>\n",
      " <graph.Graph object at 0x000001E4085E82B0>\n",
      " <graph.Graph object at 0x000001E4085EACB0>\n",
      " <graph.Graph object at 0x000001E4085E8A90>\n",
      " <graph.Graph object at 0x000001E4085EA770>\n",
      " <graph.Graph object at 0x000001E4085E92D0>\n",
      " <graph.Graph object at 0x000001E4085E9F30>\n",
      " <graph.Graph object at 0x000001E4085E9B10>\n",
      " <graph.Graph object at 0x000001E4085EABC0>\n",
      " <graph.Graph object at 0x000001E4085EA680>\n",
      " <graph.Graph object at 0x000001E4085EA410>\n",
      " <graph.Graph object at 0x000001E4085E8F70>\n",
      " <graph.Graph object at 0x000001E4085E9720>\n",
      " <graph.Graph object at 0x000001E408682EF0>\n",
      " <graph.Graph object at 0x000001E408683880>\n",
      " <graph.Graph object at 0x000001E4086839D0>\n",
      " <graph.Graph object at 0x000001E408683B20>\n",
      " <graph.Graph object at 0x000001E4086822F0>\n",
      " <graph.Graph object at 0x000001E408682290>\n",
      " <graph.Graph object at 0x000001E408682230>\n",
      " <graph.Graph object at 0x000001E408680280>\n",
      " <graph.Graph object at 0x000001E408682440>\n",
      " <graph.Graph object at 0x000001E408682530>\n",
      " <graph.Graph object at 0x000001E408682470>\n",
      " <graph.Graph object at 0x000001E408682CB0>\n",
      " <graph.Graph object at 0x000001E408682BF0>\n",
      " <graph.Graph object at 0x000001E408682AD0>\n",
      " <graph.Graph object at 0x000001E408682B30>\n",
      " <graph.Graph object at 0x000001E408682A10>\n",
      " <graph.Graph object at 0x000001E408682950>\n",
      " <graph.Graph object at 0x000001E408683400>\n",
      " <graph.Graph object at 0x000001E408683340>\n",
      " <graph.Graph object at 0x000001E408683220>\n",
      " <graph.Graph object at 0x000001E408683280>\n",
      " <graph.Graph object at 0x000001E408683160>\n",
      " <graph.Graph object at 0x000001E408683040>\n",
      " <graph.Graph object at 0x000001E408683B50>\n",
      " <graph.Graph object at 0x000001E408683BE0>\n",
      " <graph.Graph object at 0x000001E408683C40>\n",
      " <graph.Graph object at 0x000001E4086838B0>\n",
      " <graph.Graph object at 0x000001E4086831C0>\n",
      " <graph.Graph object at 0x000001E408683580>\n",
      " <graph.Graph object at 0x000001E4086837F0>\n",
      " <graph.Graph object at 0x000001E408682AA0>\n",
      " <graph.Graph object at 0x000001E408683EB0>\n",
      " <graph.Graph object at 0x000001E408683DF0>\n",
      " <graph.Graph object at 0x000001E408681930>\n",
      " <graph.Graph object at 0x000001E408680D60>\n",
      " <graph.Graph object at 0x000001E408680610>\n",
      " <graph.Graph object at 0x000001E408683D30>\n",
      " <graph.Graph object at 0x000001E4086830D0>\n",
      " <graph.Graph object at 0x000001E4086828C0>\n",
      " <graph.Graph object at 0x000001E408681120>\n",
      " <graph.Graph object at 0x000001E4086832E0>\n",
      " <graph.Graph object at 0x000001E4086832B0>\n",
      " <graph.Graph object at 0x000001E408680190>\n",
      " <graph.Graph object at 0x000001E4086800D0>\n",
      " <graph.Graph object at 0x000001E4086801F0>\n",
      " <graph.Graph object at 0x000001E4086808B0>\n",
      " <graph.Graph object at 0x000001E4086807F0>\n",
      " <graph.Graph object at 0x000001E408680880>\n",
      " <graph.Graph object at 0x000001E408680AC0>\n",
      " <graph.Graph object at 0x000001E408680940>\n",
      " <graph.Graph object at 0x000001E408680400>\n",
      " <graph.Graph object at 0x000001E408681000>\n",
      " <graph.Graph object at 0x000001E408680F40>\n",
      " <graph.Graph object at 0x000001E408680FD0>\n",
      " <graph.Graph object at 0x000001E408681210>\n",
      " <graph.Graph object at 0x000001E408681090>\n",
      " <graph.Graph object at 0x000001E408680B50>\n",
      " <graph.Graph object at 0x000001E408681750>\n",
      " <graph.Graph object at 0x000001E408681690>\n",
      " <graph.Graph object at 0x000001E408681720>\n",
      " <graph.Graph object at 0x000001E408681960>\n",
      " <graph.Graph object at 0x000001E4086817E0>\n",
      " <graph.Graph object at 0x000001E4086812A0>\n",
      " <graph.Graph object at 0x000001E408681ED0>\n",
      " <graph.Graph object at 0x000001E408681C60>\n",
      " <graph.Graph object at 0x000001E408681B40>\n",
      " <graph.Graph object at 0x000001E408681A50>\n",
      " <graph.Graph object at 0x000001E408682110>\n",
      " <graph.Graph object at 0x000001E4086820B0>\n",
      " <graph.Graph object at 0x000001E408681E70>\n",
      " <graph.Graph object at 0x000001E408681810>\n",
      " <graph.Graph object at 0x000001E408680A00>\n",
      " <graph.Graph object at 0x000001E408680A60>\n",
      " <graph.Graph object at 0x000001E408680EB0>\n",
      " <graph.Graph object at 0x000001E4086811E0>\n",
      " <graph.Graph object at 0x000001E4086814E0>\n",
      " <graph.Graph object at 0x000001E40854B070>\n",
      " <graph.Graph object at 0x000001E40854B0A0>\n",
      " <graph.Graph object at 0x000001E40854BFA0>\n",
      " <graph.Graph object at 0x000001E40854BF40>\n",
      " <graph.Graph object at 0x000001E40854B460>\n",
      " <graph.Graph object at 0x000001E40854BBB0>\n",
      " <graph.Graph object at 0x000001E40854BE50>\n",
      " <graph.Graph object at 0x000001E40854BB20>\n",
      " <graph.Graph object at 0x000001E40854BC70>\n",
      " <graph.Graph object at 0x000001E40854BD90>\n",
      " <graph.Graph object at 0x000001E40854B9D0>\n",
      " <graph.Graph object at 0x000001E40854B970>\n",
      " <graph.Graph object at 0x000001E40854B2B0>\n",
      " <graph.Graph object at 0x000001E40854BCA0>\n",
      " <graph.Graph object at 0x000001E40854B8B0>\n",
      " <graph.Graph object at 0x000001E40854B880>\n",
      " <graph.Graph object at 0x000001E40854B6D0>\n",
      " <graph.Graph object at 0x000001E40854B670>\n",
      " <graph.Graph object at 0x000001E40854B640>\n",
      " <graph.Graph object at 0x000001E40854B490>\n",
      " <graph.Graph object at 0x000001E40854B190>\n",
      " <graph.Graph object at 0x000001E408549180>\n",
      " <graph.Graph object at 0x000001E40854A050>\n",
      " <graph.Graph object at 0x000001E40854AB00>\n",
      " <graph.Graph object at 0x000001E40854A260>\n",
      " <graph.Graph object at 0x000001E408549540>\n",
      " <graph.Graph object at 0x000001E4085492D0>\n",
      " <graph.Graph object at 0x000001E408548280>\n",
      " <graph.Graph object at 0x000001E4085480A0>\n",
      " <graph.Graph object at 0x000001E40854A290>\n",
      " <graph.Graph object at 0x000001E40854A0E0>\n",
      " <graph.Graph object at 0x000001E40854A440>\n",
      " <graph.Graph object at 0x000001E40854A380>\n",
      " <graph.Graph object at 0x000001E40854A9B0>\n",
      " <graph.Graph object at 0x000001E40854ADD0>\n",
      " <graph.Graph object at 0x000001E40854AA10>\n",
      " <graph.Graph object at 0x000001E40854AD70>\n",
      " <graph.Graph object at 0x000001E40854ACE0>\n",
      " <graph.Graph object at 0x000001E40854A8F0>\n",
      " <graph.Graph object at 0x000001E408549FC0>\n",
      " <graph.Graph object at 0x000001E40854A8C0>\n",
      " <graph.Graph object at 0x000001E40854A6B0>\n",
      " <graph.Graph object at 0x000001E40854A740>\n",
      " <graph.Graph object at 0x000001E40854A680>\n",
      " <graph.Graph object at 0x000001E40854AE90>\n",
      " <graph.Graph object at 0x000001E40854A4D0>\n",
      " <graph.Graph object at 0x000001E40854AE60>\n",
      " <graph.Graph object at 0x000001E40854B040>\n",
      " <graph.Graph object at 0x000001E40854AFB0>\n",
      " <graph.Graph object at 0x000001E408548EB0>\n",
      " <graph.Graph object at 0x000001E408549450>\n",
      " <graph.Graph object at 0x000001E408549390>\n",
      " <graph.Graph object at 0x000001E408549240>\n",
      " <graph.Graph object at 0x000001E408549CC0>\n",
      " <graph.Graph object at 0x000001E408549C30>\n",
      " <graph.Graph object at 0x000001E408548FA0>\n",
      " <graph.Graph object at 0x000001E408548F70>\n",
      " <graph.Graph object at 0x000001E408549B40>\n",
      " <graph.Graph object at 0x000001E408549AB0>\n",
      " <graph.Graph object at 0x000001E4085496C0>\n",
      " <graph.Graph object at 0x000001E408549630>\n",
      " <graph.Graph object at 0x000001E4085495A0>\n",
      " <graph.Graph object at 0x000001E408548EE0>\n",
      " <graph.Graph object at 0x000001E4085499C0>]\n"
     ]
    }
   ],
   "source": [
    "path='../data/'\n",
    "X,y=load_local_data(path,'mutag')\n",
    "print(X)"
   ]
  },
  {
   "cell_type": "code",
   "execution_count": 21,
   "metadata": {
    "collapsed": true
   },
   "outputs": [],
   "source": [
    "lennodes=[]\n",
    "for x in X:\n",
    "    lennodes.append(len(x.nodes()))\n",
    "n1=np.argsort(lennodes)[0]\n",
    "n2=np.argsort(lennodes)[1]"
   ]
  },
  {
   "cell_type": "code",
   "execution_count": 22,
   "metadata": {
    "collapsed": true
   },
   "outputs": [],
   "source": [
    "graph=X[n1]\n",
    "graph2=X[n2]"
   ]
  },
  {
   "cell_type": "code",
   "execution_count": 23,
   "metadata": {
    "collapsed": false
   },
   "outputs": [],
   "source": [
    "H=1\n",
    "gtilde=Graph()\n",
    "gtilde.nx_graph=wl_labeling(graph.nx_graph,h=H,tohash=False)\n",
    "gtilde2=Graph()\n",
    "gtilde2.nx_graph=wl_labeling(graph2.nx_graph,h=H,tohash=False)"
   ]
  },
  {
   "cell_type": "code",
   "execution_count": 24,
   "metadata": {
    "collapsed": false
   },
   "outputs": [
    {
     "data": {
      "image/png": "[encoded data removed]",
      "text/plain": [
       "<Figure size 1080x720 with 4 Axes>"
      ]
     },
     "metadata": {},
     "output_type": "display_data"
    }
   ],
   "source": [
    "pos=nx.layout.kamada_kawai_layout(graph.nx_graph)\n",
    "\n",
    "fs=13\n",
    "plt.figure(figsize=(15,10))\n",
    "\n",
    "plt.subplot(2,2,1)\n",
    "\n",
    "nx.draw(graph.nx_graph,pos=pos)\n",
    "nx.draw_networkx_labels(graph.nx_graph,pos=pos_diff(pos,0,0.2)\n",
    "        ,labels=nx.get_node_attributes(graph.nx_graph,'attr_name'),font_size=fs)\n",
    "\n",
    "plt.subplot(2,2,2)\n",
    "nx.draw(gtilde.nx_graph,pos=pos)\n",
    "nx.draw_networkx_labels(gtilde.nx_graph,pos=pos_diff(pos,0,0.2)\n",
    "                        ,labels=nx.get_node_attributes(gtilde.nx_graph,'attr_name'),font_size=fs)\n",
    "\n",
    "\n",
    "plt.subplot(2,2,3)\n",
    "pos=nx.layout.kamada_kawai_layout(graph2.nx_graph)\n",
    "\n",
    "nx.draw(graph2.nx_graph,pos=pos)\n",
    "nx.draw_networkx_labels(graph2.nx_graph,pos=pos_diff(pos,0,0.1)\n",
    "        ,labels=nx.get_node_attributes(graph2.nx_graph,'attr_name'),font_size=fs)\n",
    "\n",
    "plt.subplot(2,2,4)\n",
    "nx.draw(gtilde2.nx_graph,pos=pos)\n",
    "nx.draw_networkx_labels(gtilde2.nx_graph,pos=pos_diff(pos,0,0.1)\n",
    "                        ,labels=nx.get_node_attributes(gtilde2.nx_graph,'attr_name'),font_size=fs)\n",
    "plt.show()"
   ]
  },
  {
   "cell_type": "code",
   "execution_count": 25,
   "metadata": {
    "collapsed": true
   },
   "outputs": [],
   "source": [
    "X=gtilde.all_matrix_attr().reshape(-1,1)\n",
    "Y=gtilde2.all_matrix_attr().reshape(-1,1)"
   ]
  },
  {
   "cell_type": "code",
   "execution_count": 26,
   "metadata": {
    "collapsed": true
   },
   "outputs": [],
   "source": [
    "M=ot.dist(X,Y,f)"
   ]
  },
  {
   "cell_type": "code",
   "execution_count": 27,
   "metadata": {
    "collapsed": false
   },
   "outputs": [
    {
     "data": {
      "image/png": "[encoded data removed]",
      "text/plain": [
       "<Figure size 432x288 with 2 Axes>"
      ]
     },
     "metadata": {
      "needs_background": "light"
     },
     "output_type": "display_data"
    }
   ],
   "source": [
    "plt.imshow(M,interpolation='nearest',cmap='viridis')\n",
    "plt.title('Features distance matrix using hammin_dist')\n",
    "plt.colorbar()\n",
    "plt.show()"
   ]
  }
 ],
 "metadata": {
  "anaconda-cloud": {},
  "kernelspec": {
   "display_name": "Python [default]",
   "language": "python",
   "name": "python3"
  },
  "language_info": {
   "codemirror_mode": {
    "name": "ipython",
    "version": 3
   },
   "file_extension": ".py",
   "mimetype": "text/x-python",
   "name": "python",
   "nbconvert_exporter": "python",
   "pygments_lexer": "ipython3",
   "version": "3.10.1"
  }
 },
 "nbformat": 4,
 "nbformat_minor": 1
}
